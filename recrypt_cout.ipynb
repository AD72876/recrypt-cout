{
 "cells": [
  {
   "cell_type": "code",
   "execution_count": 1,
   "metadata": {},
   "outputs": [],
   "source": [
    "from math import gcd\n",
    "from math import log2\n",
    "from math import floor\n",
    "from random import *\n",
    "from Crypto.Util.number import getPrime\n"
   ]
  },
  {
   "cell_type": "code",
   "execution_count": 2,
   "metadata": {},
   "outputs": [],
   "source": [
    "#Cout addition \n",
    "\n",
    "def cout_addition(taille1,taille2):\n",
    "    return log2(taille1+taille2) "
   ]
  },
  {
   "cell_type": "code",
   "execution_count": 3,
   "metadata": {},
   "outputs": [],
   "source": [
    "#Cout mulitplication\n",
    "def cout_multiplication(taille1,taille2):\n",
    "    return (taille2+taille1)"
   ]
  },
  {
   "cell_type": "code",
   "execution_count": 4,
   "metadata": {},
   "outputs": [],
   "source": [
    "#Cout chiffrement par bit\n",
    "def chiffrement_chaine_bit(nombre,alpha):\n",
    "    n=floor(log2(n))+1\n",
    "    return n*(cout_addition(1,alpha)+cout_addition(alpha^5)) #1 ou 0 sont de taille 1. Et dans le chiffrement on additonne seulement un élement pris au hasard clé publique avec un bruit de alpha^2\n"
   ]
  },
  {
   "cell_type": "code",
   "execution_count": 5,
   "metadata": {},
   "outputs": [],
   "source": [
    "#Cout mod p mod 2 (Evaluate avec le circuit de la fonction de dechiffrement)\n",
    "def cout_inversion_modulaire(chiffre,p):\n",
    "    taille_p=floor(log2(p))+1\n",
    "    taille_chiffre=floor(log2(chiffre))+1\n",
    "    while(chiffre>taille_p):\n",
    "        cout=cout_addition(taille_chiffre,taille_p)\n",
    "\n",
    "    return cout\n",
    "    \n"
   ]
  },
  {
   "cell_type": "code",
   "execution_count": 6,
   "metadata": {},
   "outputs": [],
   "source": [
    "def cout_total(nombre_cle,chiffre1,p1,alpha,complexite_fonction):\n",
    "    cout=0\n",
    "    for i in range(0,len(nombre_cle)):\n",
    "        cout=cout+cout_inversion_modulaire(chiffre1,p1)\n",
    "        cout=cout+chiffrement_chaine_bit(chiffre1,alpha)\n",
    "    return cout+complexite_fonction\n",
    "    \n",
    "\n"
   ]
  },
  {
   "cell_type": "code",
   "execution_count": 7,
   "metadata": {},
   "outputs": [],
   "source": [
    "import random\n",
    "\n",
    "def random_number(alpha):\n",
    "    # Générer un nombre aléatoire de taille alpha\n",
    "    num = random.getrandbits(alpha)\n",
    "    # S'assurer que le nombre a exactement alpha bits en le masquant\n",
    "    mask = (1 << alpha) - 1\n",
    "    num &= mask\n",
    "    return num\n",
    "    "
   ]
  },
  {
   "cell_type": "code",
   "execution_count": 8,
   "metadata": {},
   "outputs": [],
   "source": [
    "def entier_vers_binaire(nombre):\n",
    "    q=nombre\n",
    "    bit_c=[]\n",
    "    while q!=1 :\n",
    "        r=q%2\n",
    "        q=q//2\n",
    "        bit_c.append(r)\n",
    "    r=q%2\n",
    "    bit_c.append(r)\n",
    "    bit_c=list(reversed(bit_c))\n",
    "    return bit_c"
   ]
  },
  {
   "cell_type": "code",
   "execution_count": 9,
   "metadata": {},
   "outputs": [
    {
     "name": "stdout",
     "output_type": "stream",
     "text": [
      "0b110101011000011001100100100101100001010000001101100001001011010000011101110111111100111000100110000010000101101010100000101001111011011100101011000011011011001001011101010011100000011100000100000010100110111010001000110001100111001011001110111000001000011001101011110011101010111100111111011010011101111000100000110010100101000100100010000000010010010110001111110100001100010111000111011000101010111001101011000100000111101110011110000110110001111010111010010111010010001010101101101011101011110010100100001010111011100011001001110011010101000110000000110010111000010100000100000110000100111101000101101000110011100111110000010110111000001001011100101001101101010111011011010010101000000011010001100001010010011000000100011011110001111010000001111111110011000010011000000010010101000011100010111111000111001011110010000010110010001100110011010110010000101110110001010010011010011011010111010011101111101001111100000111010110000000010111000101101010110100100100100100001110010100110110010100110111000110010000101011111001011000000011100000011001000001100110111011110010000101001111110010100110111000010110101110101010111010000001011001000000111001100101010111011101100010001000101110110001110111011011001\n",
      "[1, 1, 0, 1, 0, 1, 0, 1, 1, 0, 0, 0, 0, 1, 1, 0, 0, 1, 1, 0, 0, 1, 0, 0, 1, 0, 0, 1, 0, 1, 1, 0, 0, 0, 0, 1, 0, 1, 0, 0, 0, 0, 0, 0, 1, 1, 0, 1, 1, 0, 0, 0, 0, 1, 0, 0, 1, 0, 1, 1, 0, 1, 0, 0, 0, 0, 0, 1, 1, 1, 0, 1, 1, 1, 0, 1, 1, 1, 1, 1, 1, 1, 0, 0, 1, 1, 1, 0, 0, 0, 1, 0, 0, 1, 1, 0, 0, 0, 0, 0, 1, 0, 0, 0, 0, 1, 0, 1, 1, 0, 1, 0, 1, 0, 1, 0, 0, 0, 0, 0, 1, 0, 1, 0, 0, 1, 1, 1, 1, 0, 1, 1, 0, 1, 1, 1, 0, 0, 1, 0, 1, 0, 1, 1, 0, 0, 0, 0, 1, 1, 0, 1, 1, 0, 1, 1, 0, 0, 1, 0, 0, 1, 0, 1, 1, 1, 0, 1, 0, 1, 0, 0, 1, 1, 1, 0, 0, 0, 0, 0, 0, 1, 1, 1, 0, 0, 0, 0, 0, 1, 0, 0, 0, 0, 0, 0, 1, 0, 1, 0, 0, 1, 1, 0, 1, 1, 1, 0, 1, 0, 0, 0, 1, 0, 0, 0, 1, 1, 0, 0, 0, 1, 1, 0, 0, 1, 1, 1, 0, 0, 1, 0, 1, 1, 0, 0, 1, 1, 1, 0, 1, 1, 1, 0, 0, 0, 0, 0, 1, 0, 0, 0, 0, 1, 1, 0, 0, 1, 1, 0, 1, 0, 1, 1, 1, 1, 0, 0, 1, 1, 1, 0, 1, 0, 1, 0, 1, 1, 1, 1, 0, 0, 1, 1, 1, 1, 1, 1, 0, 1, 1, 0, 1, 0, 0, 1, 1, 1, 0, 1, 1, 1, 1, 0, 0, 0, 1, 0, 0, 0, 0, 0, 1, 1, 0, 0, 1, 0, 1, 0, 0, 1, 0, 1, 0, 0, 0, 1, 0, 0, 1, 0, 0, 0, 1, 0, 0, 0, 0, 0, 0, 0, 0, 1, 0, 0, 1, 0, 0, 1, 0, 1, 1, 0, 0, 0, 1, 1, 1, 1, 1, 1, 0, 1, 0, 0, 0, 0, 1, 1, 0, 0, 0, 1, 0, 1, 1, 1, 0, 0, 0, 1, 1, 1, 0, 1, 1, 0, 0, 0, 1, 0, 1, 0, 1, 0, 1, 1, 1, 0, 0, 1, 1, 0, 1, 0, 1, 1, 0, 0, 0, 1, 0, 0, 0, 0, 0, 1, 1, 1, 1, 0, 1, 1, 1, 0, 0, 1, 1, 1, 1, 0, 0, 0, 0, 1, 1, 0, 1, 1, 0, 0, 0, 1, 1, 1, 1, 0, 1, 0, 1, 1, 1, 0, 1, 0, 0, 1, 0, 1, 1, 1, 0, 1, 0, 0, 1, 0, 0, 0, 1, 0, 1, 0, 1, 0, 1, 1, 0, 1, 1, 0, 1, 0, 1, 1, 1, 0, 1, 0, 1, 1, 1, 1, 0, 0, 1, 0, 1, 0, 0, 1, 0, 0, 0, 0, 1, 0, 1, 0, 1, 1, 1, 0, 1, 1, 1, 0, 0, 0, 1, 1, 0, 0, 1, 0, 0, 1, 1, 1, 0, 0, 1, 1, 0, 1, 0, 1, 0, 1, 0, 0, 0, 1, 1, 0, 0, 0, 0, 0, 0, 0, 1, 1, 0, 0, 1, 0, 1, 1, 1, 0, 0, 0, 0, 1, 0, 1, 0, 0, 0, 0, 0, 1, 0, 0, 0, 0, 0, 1, 1, 0, 0, 0, 0, 1, 0, 0, 1, 1, 1, 1, 0, 1, 0, 0, 0, 1, 0, 1, 1, 0, 1, 0, 0, 0, 1, 1, 0, 0, 1, 1, 1, 0, 0, 1, 1, 1, 1, 1, 0, 0, 0, 0, 0, 1, 0, 1, 1, 0, 1, 1, 1, 0, 0, 0, 0, 0, 1, 0, 0, 1, 0, 1, 1, 1, 0, 0, 1, 0, 1, 0, 0, 1, 1, 0, 1, 1, 0, 1, 0, 1, 0, 1, 1, 1, 0, 1, 1, 0, 1, 1, 0, 1, 0, 0, 1, 0, 1, 0, 1, 0, 0, 0, 0, 0, 0, 0, 1, 1, 0, 1, 0, 0, 0, 1, 1, 0, 0, 0, 0, 1, 0, 1, 0, 0, 1, 0, 0, 1, 1, 0, 0, 0, 0, 0, 0, 1, 0, 0, 0, 1, 1, 0, 1, 1, 1, 1, 0, 0, 0, 1, 1, 1, 1, 0, 1, 0, 0, 0, 0, 0, 0, 1, 1, 1, 1, 1, 1, 1, 1, 1, 0, 0, 1, 1, 0, 0, 0, 0, 1, 0, 0, 1, 1, 0, 0, 0, 0, 0, 0, 0, 1, 0, 0, 1, 0, 1, 0, 1, 0, 0, 0, 0, 1, 1, 1, 0, 0, 0, 1, 0, 1, 1, 1, 1, 1, 1, 0, 0, 0, 1, 1, 1, 0, 0, 1, 0, 1, 1, 1, 1, 0, 0, 1, 0, 0, 0, 0, 0, 1, 0, 1, 1, 0, 0, 1, 0, 0, 0, 1, 1, 0, 0, 1, 1, 0, 0, 1, 1, 0, 1, 0, 1, 1, 0, 0, 1, 0, 0, 0, 0, 1, 0, 1, 1, 1, 0, 1, 1, 0, 0, 0, 1, 0, 1, 0, 0, 1, 0, 0, 1, 1, 0, 1, 0, 0, 1, 1, 0, 1, 1, 0, 1, 0, 1, 1, 1, 0, 1, 0, 0, 1, 1, 1, 0, 1, 1, 1, 1, 1, 0, 1, 0, 0, 1, 1, 1, 1, 1, 0, 0, 0, 0, 0, 1, 1, 1, 0, 1, 0, 1, 1, 0, 0, 0, 0, 0, 0, 0, 0, 1, 0, 1, 1, 1, 0, 0, 0, 1, 0, 1, 1, 0, 1, 0, 1, 0, 1, 1, 0, 1, 0, 0, 1, 0, 0, 1, 0, 0, 1, 0, 0, 1, 0, 0, 0, 0, 1, 1, 1, 0, 0, 1, 0, 1, 0, 0, 1, 1, 0, 1, 1, 0, 0, 1, 0, 1, 0, 0, 1, 1, 0, 1, 1, 1, 0, 0, 0, 1, 1, 0, 0, 1, 0, 0, 0, 0, 1, 0, 1, 0, 1, 1, 1, 1, 1, 0, 0, 1, 0, 1, 1, 0, 0, 0, 0, 0, 0, 0, 1, 1, 1, 0, 0, 0, 0, 0, 0, 1, 1, 0, 0, 1, 0, 0, 0, 0, 0, 1, 1, 0, 0, 1, 1, 0, 1, 1, 1, 0, 1, 1, 1, 1, 0, 0, 1, 0, 0, 0, 0, 1, 0, 1, 0, 0, 1, 1, 1, 1, 1, 1, 0, 0, 1, 0, 1, 0, 0, 1, 1, 0, 1, 1, 1, 0, 0, 0, 0, 1, 0, 1, 1, 0, 1, 0, 1, 1, 1, 0, 1, 0, 1, 0, 1, 0, 1, 1, 1, 0, 1, 0, 0, 0, 0, 0, 0, 1, 0, 1, 1, 0, 0, 1, 0, 0, 0, 0, 0, 0, 1, 1, 1, 0, 0, 1, 1, 0, 0, 1, 0, 1, 0, 1, 0, 1, 1, 1, 0, 1, 1, 1, 0, 1, 1, 0, 0, 0, 1, 0, 0, 0, 1, 0, 0, 0, 1, 0, 1, 1, 1, 0, 1, 1, 0, 0, 0, 1, 1, 1, 0, 1, 1, 1, 0, 1, 1, 0, 1, 1, 0, 0, 1]\n"
     ]
    }
   ],
   "source": [
    "def keygen(alpha,n):\n",
    "    pk=[]\n",
    "    p=getPrime(alpha)\n",
    "    while len(pk)<n :\n",
    "        q=random_number(alpha^5)\n",
    "        pk.append(p*q)\n",
    "\n",
    "    for i in range(0,n):\n",
    "        q=randint(1,n)\n",
    "        pk.append(q)\n",
    "\n",
    "    return pk,p\n",
    "\n",
    "\n",
    "alpha=600\n",
    "clef_publique,clef_privee=keygen(alpha,10)\n",
    "\n",
    "def encrypt_bit(m,pk):\n",
    "    pk=random.choice(clef_publique)\n",
    "    r=random_number(alpha^2)\n",
    "    c=m+2*r+pk\n",
    "    return c\n",
    "\n",
    "def decrypt_bit(c,clef_privee):\n",
    "    c=c%clef_privee\n",
    "    c=c%2\n",
    "    return c\n",
    "\n",
    "def encrypt_chaineBit(c,clef_publique):\n",
    "    q=c\n",
    "    bit_c=[]\n",
    "    while q!=1 :\n",
    "        r=q%2\n",
    "        q=q//2\n",
    "        bit_c.append(r)\n",
    "    r=q%2\n",
    "    bit_c.append(r)\n",
    "    bit_c=list(reversed(bit_c))\n",
    "    bit_pk2=[]\n",
    "    for i in range(0,len(bit_c)):\n",
    "        chiffre=encrypt_bit(bit_c[i],clef_publique)\n",
    "        bit_pk2.append(chiffre)\n",
    "\n",
    "    return bit_pk2\n",
    "\n",
    "c=encrypt_bit(1,clef_publique) #Est-ce que le chiffre c_1 est un chiffré sous pk_1 ou chiffre bit a bit par pk_1\n",
    "print(bin(c))\n",
    "chaineBit_chiffre=encrypt_chaineBit(c,clef_publique)\n",
    "\n",
    "\n",
    "def decrypt_chaineBit(c,clef_privee):\n",
    "    q=c\n",
    "    bit_c=[]\n",
    "    while q!=1 :\n",
    "        r=q%2\n",
    "        q=q//2\n",
    "        bit_c.append(r)\n",
    "    r=q%2\n",
    "    bit_c.append(r)\n",
    "    bit_c=list(reversed(bit_c))\n",
    "    bit_pk2=[]\n",
    "    for i in range(0,len(bit_c)):\n",
    "    \n",
    "        chiffre=decrypt_bit(bit_c[i],clef_privee)\n",
    "        bit_pk2.append(chiffre)\n",
    "    return bit_pk2\n",
    "\n",
    "chaineBit_dechiffre=decrypt_chaineBit(c,clef_privee)\n",
    "\n",
    "print(chaineBit_dechiffre)\n",
    "    \n"
   ]
  },
  {
   "cell_type": "code",
   "execution_count": 10,
   "metadata": {},
   "outputs": [
    {
     "data": {
      "text/plain": [
       "[1, 0, 1, 0]"
      ]
     },
     "execution_count": 10,
     "metadata": {},
     "output_type": "execute_result"
    }
   ],
   "source": [
    "def addition_binaire(chaine_bit1,chaine_bit2):\n",
    "    retenue=0\n",
    "\n",
    "    if len(chaine_bit1)>len(chaine_bit2):\n",
    "        a=len(chaine_bit1)\n",
    "        chaine_bit2=[0 for i in range(0,a-len(chaine_bit2))]+chaine_bit2\n",
    "        #chaine_bit3=[0 for i in range(0,len(chaine_bit1))]\n",
    "    else :\n",
    "        a=len(chaine_bit2)\n",
    "        chaine_bit1=[0 for i in range(0,a-len(chaine_bit1))]+chaine_bit1\n",
    "       \n",
    "    liste1=chaine_bit1.copy()\n",
    "    liste1.reverse()\n",
    "    liste2=chaine_bit2.copy()\n",
    "    liste2.reverse()\n",
    "    chaine_bit3=[]    \n",
    "    for i in range(0,a):\n",
    "        chaine_bit3.insert(0, (liste1[i]^liste2[i])^retenue)\n",
    "        if retenue==1:\n",
    "            if liste1[i]==1 or liste2[i]==1 :\n",
    "                retenue=1\n",
    "            else :\n",
    "                retenue=0\n",
    "        else :\n",
    "            retenue=liste1[i]&liste2[i]\n",
    "        \"\"\"\n",
    "        print(\"i est égale:\",i)\n",
    "        print(\"retenue:\",retenue)\n",
    "        print(chaine_bit3)\n",
    "        \"\"\"\n",
    "    if retenue!=0:\n",
    "        i=i+1\n",
    "        liste1.append(0)\n",
    "        liste2.append(0)\n",
    "        chaine_bit3.insert(0, (liste1[i]^liste2[i])^retenue)\n",
    "        #chaine_bit3[i]=(chaine_bit1[i]^chaine_bit2[i])^retenue\n",
    "    return chaine_bit3\n",
    "\n",
    "addition_binaire([1,1,1],[1,1])\n",
    "\n",
    "\n"
   ]
  },
  {
   "cell_type": "code",
   "execution_count": 11,
   "metadata": {},
   "outputs": [
    {
     "data": {
      "text/plain": [
       "[1, 0, 1, 0, 1]"
      ]
     },
     "execution_count": 11,
     "metadata": {},
     "output_type": "execute_result"
    }
   ],
   "source": [
    "def addition_binaire2(chaine_bit1,chaine_bit2): # Version plus simple\n",
    "    retenue=0\n",
    "\n",
    "    if len(chaine_bit1)>len(chaine_bit2):\n",
    "        a=len(chaine_bit1)\n",
    "        chaine_bit2=[0 for i in range(0,a-len(chaine_bit2))]+chaine_bit2\n",
    "        #chaine_bit3=[0 for i in range(0,len(chaine_bit1))]\n",
    "    else :\n",
    "        a=len(chaine_bit2)\n",
    "        chaine_bit1=[0 for i in range(0,a-len(chaine_bit1))]+chaine_bit1\n",
    "       \n",
    "    chaine_bit3=[]\n",
    "    i=a    \n",
    "    while i>0 :\n",
    "        i=i-1\n",
    "        chaine_bit3.insert(0, (chaine_bit1[i]+chaine_bit2[i]+retenue)%2)\n",
    "        if retenue==1:\n",
    "            if chaine_bit1[i]==1 or chaine_bit2[i]==1 :\n",
    "                retenue=1\n",
    "            else :\n",
    "                retenue=0\n",
    "        else :\n",
    "            retenue=chaine_bit1[i]&chaine_bit2[i]\n",
    "        \"\"\"\n",
    "        print(\"i est égale:\",i)\n",
    "        print(\"retenue:\",retenue)\n",
    "        print(chaine_bit3)\n",
    "        \"\"\"\n",
    "        \n",
    "    if retenue!=0:\n",
    "        chaine_bit3.insert(0, 1)\n",
    "        #chaine_bit3[i]=(chaine_bit1[i]^chaine_bit2[i])^retenue\n",
    "    return chaine_bit3\n",
    "\n",
    "addition_binaire2([1,0,1],[1, 0, 0, 0, 0])"
   ]
  },
  {
   "cell_type": "code",
   "execution_count": 12,
   "metadata": {},
   "outputs": [],
   "source": [
    "def string_to_bit_list(bit_string):\n",
    "    return [int(bit) for bit in bit_string]\n",
    "\n",
    "def test_binaire() :   #Fonction test corre\n",
    "    for i in range(0,100000):\n",
    "\n",
    "        a=randint(1,100)\n",
    "        b=randint(1,100)\n",
    "        liste1=string_to_bit_list(bin(a)[2:])\n",
    "        liste2=string_to_bit_list(bin(b)[2:])\n",
    "        liste=string_to_bit_list(bin(a+b)[2:])\n",
    "        if liste!=addition_binaire2(liste1,liste2):\n",
    "            \n",
    "\n",
    "            print(liste1,liste2)\n",
    "test_binaire()\n"
   ]
  },
  {
   "cell_type": "code",
   "execution_count": 13,
   "metadata": {},
   "outputs": [],
   "source": [
    "def bit_list_to_binary_string(bit_list):\n",
    "    return '0b' + ''.join(str(bit) for bit in bit_list)\n",
    "\n"
   ]
  },
  {
   "cell_type": "code",
   "execution_count": 14,
   "metadata": {},
   "outputs": [],
   "source": [
    "def binaire_vers_entier(liste1,liste2):\n",
    "    s=0\n",
    "    for i in range(0,len(liste1)):\n",
    "        s=s+(liste1[i]*(2**(len(liste1)-1-i)))\n",
    "    s2=0\n",
    "    for i in range(0,len(liste2)):\n",
    "        s2=s2+(liste2[i]*(2**(len(liste2)-1-i)))\n",
    "\n",
    "    #print(\"s=\",s,\"s2=\",s2)\n",
    "\n",
    "    if s>s2 :\n",
    "        print(s,s2)\n",
    "        return 1\n",
    "    else :\n",
    "        print(s,s2)\n",
    "        return 0\n"
   ]
  },
  {
   "cell_type": "code",
   "execution_count": 15,
   "metadata": {},
   "outputs": [
    {
     "name": "stdout",
     "output_type": "stream",
     "text": [
      "2 4\n",
      "chaine3 [0, 0, 1, 0]\n"
     ]
    },
    {
     "data": {
      "text/plain": [
       "'-0b10'"
      ]
     },
     "execution_count": 15,
     "metadata": {},
     "output_type": "execute_result"
    }
   ],
   "source": [
    "\n",
    "\n",
    "def sub_binaire(chaine_bit1,chaine_bit2) :\n",
    "    if len(chaine_bit1)>len(chaine_bit2):\n",
    "        a=len(chaine_bit1)\n",
    "        chaine_bit2=[0 for i in range(0,a-len(chaine_bit2))]+chaine_bit2\n",
    "    else :\n",
    "        a=len(chaine_bit2)\n",
    "        chaine_bit1=[0 for i in range(0,a-len(chaine_bit1))]+chaine_bit1\n",
    "\n",
    "   \n",
    "    liste1,liste2=chaine_bit1.copy(),chaine_bit2.copy()\n",
    "    \n",
    "    chaine_bit3=[]\n",
    "    i=a\n",
    "    if binaire_vers_entier(chaine_bit1,chaine_bit2)==1 : #je compare juste quel chaine de bit est l'entier le plus grand pour pouvoir faire la version adaptée.\n",
    "        while i>0:\n",
    "\n",
    "            i=i-1\n",
    "            if liste1[i]>liste2[i] :\n",
    "                chaine_bit3.insert(0,liste1[i]-liste2[i])\n",
    "            elif liste1[i]==liste2[i]:\n",
    "                chaine_bit3.insert(0,0)\n",
    "\n",
    "            else :\n",
    "                liste1[i]=liste1[i]+2\n",
    "                if i!=0 :\n",
    "                    liste2[i-1]=liste2[i-1]+1\n",
    "                chaine_bit3.insert(0,liste1[i]-liste2[i])\n",
    "        return print(bit_list_to_binary_string(chaine_bit3))\n",
    "    else :                                              #Ici je fais l'autre version avec emprunt 2 à 2 pour les soustractions binaires. \n",
    "        for i in range(0,a):\n",
    "            if liste1[i]==0 :\n",
    "                liste1[i]=1\n",
    "            else:\n",
    "                liste1[i]=0\n",
    "        liste1=addition_binaire(liste1,[1])\n",
    "        chaine_bit3=addition_binaire(liste1,liste2)\n",
    "        chaine_bit3.pop(0)\n",
    "        j=0\n",
    "        print('chaine3',chaine_bit3)\n",
    "        for i in range(0,a):\n",
    "            if chaine_bit3[i]==1 :\n",
    "                break\n",
    "            j=j+1\n",
    "        for i in range(0,j):\n",
    "            chaine_bit3.pop(0)\n",
    "        chaine_bit3='-'+bit_list_to_binary_string(chaine_bit3)\n",
    "        return chaine_bit3\n",
    "\n",
    "\n",
    "\n",
    "            \n",
    "\n",
    "    \n",
    "\n",
    "\n",
    "sub_binaire([0,0,1,0],[0,1,0,0])"
   ]
  },
  {
   "cell_type": "code",
   "execution_count": 16,
   "metadata": {},
   "outputs": [
    {
     "name": "stdout",
     "output_type": "stream",
     "text": [
      "Le resultat attendu est  0b10101\n"
     ]
    },
    {
     "data": {
      "text/plain": [
       "[1, 0, 1, 0, 1]"
      ]
     },
     "execution_count": 16,
     "metadata": {},
     "output_type": "execute_result"
    }
   ],
   "source": [
    "def mult_binaire(list1, list2) :\n",
    "\t'''\n",
    "\t resultat récupère le resultat de la multiplication list1 * list2[i]\n",
    "\t terme1 et terme2 récupèrent les résultats de deux multiplications consécutives et les additionnent\n",
    "\t'''\n",
    "\tresultat = ''\n",
    "\tterme1 = ''\n",
    "\tterme2 = ''\n",
    "\n",
    "\tfor i in range(len(list2)) :\n",
    "\t\t'''\n",
    "\t\tCalcul de tous les bits de la première ligne avec un bit de la deuxième ligne :\n",
    "\t\t\tlist1 * list2[i]\n",
    "\t\t'''\n",
    "\t\tindice = len(list2)-i-1\n",
    "\t\tbit_list2 = list2[indice]\n",
    "\n",
    "\t\tfor j in range(len(list1)) :\n",
    "\t\t\tindice = len(list1)-j-1\n",
    "\t\t\tbit_list1 = list1[indice]\n",
    "\n",
    "\t\t\tresultat_temp = bit_list1 & bit_list2\n",
    "\n",
    "\t\t\tresultat = str(resultat_temp) + resultat\n",
    "\n",
    "\t\t'''\n",
    "\t\tAu début le terme1 est le résultat de la première multiplication, puis après terme1 vaut l'addition des termes précédents\n",
    "\t\t\txxxx\t\t\t\t\t\t\t\t\t\t\t\t\t  xxxx\n",
    "\t\t  *  xxx\t\t\t\t\t\t\t\t\t\t\t\t\t*  xxx\n",
    "\t\t  _______                                                  ________\n",
    "\n",
    "\t\t    xxxx -> terme1 au début                             (xxxx + xxxx0) -> terme1 pour la suite vaut le résultat des deux termes précédents \n",
    "\t\t + xxxx0 -> terme2                                    +      xxxx00    -> term2\n",
    "\n",
    "\t\t'''\n",
    "\t\tif i == 0 :\n",
    "\t\t\tterme1 = resultat\n",
    "\n",
    "\t\t'''\n",
    "\t\tAddition des deux termes :\n",
    "\t\t\t(list1 * list2[i]) + (list1 * list2[i+1])\n",
    "\t\t\t   resultat[i]     +    resultat[i+1]\n",
    "\t\t'''\n",
    "\t\tif i > 0 :\n",
    "\t\t\tterme2 = resultat\n",
    "\t\t\t\n",
    "\t\t\tterme1_to_list = []\n",
    "\t\t\tterme2_to_list = []\n",
    "\t\t\tfor element in terme1:\n",
    "\t\t\t\tterme1_to_list.append(int(element))\n",
    "\t\t\tfor element in terme2:\n",
    "\t\t\t\tterme2_to_list.append(int(element))\n",
    "\t\t\t\n",
    "\t\t\tterme1 = addition_binaire(terme1_to_list, terme2_to_list)\n",
    "\n",
    "\n",
    "\t\t'''\n",
    "\t\tAjout du 0 lorsqu'on passe à la ligne suivante :\n",
    "\n",
    "\t\t\txxx\n",
    "\t\t  *  xx\n",
    "\t\t  ______\n",
    "\n",
    "\t\t    xxx\n",
    "\t\t + xxx0  (on ajoute autant de 0 en fonction du tour, premier tour aucun 0, premier tour un  0, deuxième deux 0 etc)\n",
    "\t\t'''\n",
    "\t\tresultat = ''\n",
    "\t\tfor ajout_0 in range(i+1) :\n",
    "\t\t\tresultat = resultat + '0'\n",
    "\treturn terme1\n",
    "\t\t\t\n",
    "list1 = [1,1]\n",
    "list2 = [1,1,1]\n",
    "resultatpython = 0b11 * 0b111 #tester si on trouve resultatpython avec la fonction\n",
    "print(\"Le resultat attendu est \", bin(resultatpython)) #tester si on trouve resultatpython avec la fonction\n",
    "mult_binaire(list1, list2)"
   ]
  },
  {
   "cell_type": "code",
   "execution_count": 17,
   "metadata": {},
   "outputs": [],
   "source": [
    "def addition_bootstrapp(sk1,c_1,c_2):\n",
    "    longueur_sk=len(sk1)\n",
    "    retenue=0\n",
    "    c=[0 for i in range(0,longueur_sk)]\n",
    "    for i in range(0,longueur_sk-1) :\n",
    "        reste1_mod_sk1=(c_1[i]%sk1[i])   #On veut seulement le m' c'est à dire le message + le bruit \n",
    "        reste2_mod_sk1=(c_2[i]%sk1[i])   #Pareil ici on veut le m'\n",
    "        c[i]=c[i]+c_1[i]+c_2[i]\n",
    "        reste_mod_sk=(c[i]%sk1[i])%2\n",
    "\n",
    "        c[i]=c[i]-reste_mod_sk #On enlève le mauvais reste (message) pour pouvoir rajouter le bon reste après \n",
    "\n",
    "    \n",
    "        r=reste1_mod_sk1+reste2_mod_sk1\n",
    "        while r>sk1[i] :\n",
    "            r=r-sk1[i]\n",
    "            retenue=retenue+sk1[i]\n",
    "    c[i]=c[i]+r                 #On rajoute le bon reste (message)\n",
    "    c[i+1]=retenue\n",
    "\n",
    "    \n",
    "    c.insert(0, 0)\n",
    "    c[i+1]=retenue+c[i+1]\n",
    "\n",
    "    return c"
   ]
  }
 ],
 "metadata": {
  "kernelspec": {
   "display_name": "Python 3",
   "language": "python",
   "name": "python3"
  },
  "language_info": {
   "codemirror_mode": {
    "name": "ipython",
    "version": 3
   },
   "file_extension": ".py",
   "mimetype": "text/x-python",
   "name": "python",
   "nbconvert_exporter": "python",
   "pygments_lexer": "ipython3",
   "version": "3.9.6"
  }
 },
 "nbformat": 4,
 "nbformat_minor": 2
}
